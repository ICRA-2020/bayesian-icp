#run in notebook
# the main purpose of this function is to merge files created by open mp parallel sgld into a single file
# function to read text files in a folder one by one. discard initial few lines=clip parameter 
#and get rest all merged up in sigle array for each parameter
#this function also write a merge file named result into seperate folder
# this result file contains x,y,z,roll,pitch and yaw after clipping into indepedent column 
#this file is designed to be used as input to plot_pdfs

def merge_texts(path,clip):
   
    files=os.listdir(path)
    texts = [f for f in files if f.endswith('.txt')]
    x_list=[]
    y_list=[]
    z_list=[]
    roll_list=[]
    pitch_list=[]
    yaw_list=[]
    for files in texts:
        txt_file = path +"/"+ files
        x,y,z,roll,pitch,yaw  = numpy.genfromtxt(txt_file, unpack=True)
        
        x = x[clip:]
        y = y[clip:]
        z = z[clip:]
        roll = roll[clip:]
        pitch = pitch[clip:]
        yaw = yaw[clip:]
        
        x_list.append(x)
        y_list.append(y)
        z_list.append(z)
        roll_list.append(roll)
        pitch_list.append(pitch)
        yaw_list.append(yaw)
        
    
    x_=flatten_list(x_list)
    y_=flatten_list(y_list)
    z_=flatten_list(z_list)
    roll_=flatten_list(roll_list)
    pitch_=flatten_list(pitch_list)
    yaw_=flatten_list(yaw_list)

    
    
    new_path = path + "/" + "result"
    
    if not os.path.exists(new_path):
        os.makedirs(new_path)
    
    result_file = new_path+ "/" + "result.txt"
    
    numpy.savetxt(result_file,numpy.array([x_,y_,z_,roll_,pitch_,yaw_]).T,delimiter = '\t',fmt="% 2f")
    
    '''
    with open (result_file,'w') as f:
        for a,b,c,d,e,ff in zip (numpy.array(x_),y_,z_,roll_,pitch_,yaw_):
           
            f.write('{0:0},{1:15},{2:15},{3:15},{4:15},{5:15}\n'.format(a,b,c,d,e,ff))
    '''
    
    #----------------------------------------------------------------------
    #writinfg all arrays into a file in gz where this file has more files each containing independent array
    #result_file = path+ "/" + "result.txt"
    #numpy.savez(result_file,x_=x_,y_=y_,z_=z_,roll_=roll_,pitch_=pitch_,yaw_=yaw_)
    #result_file.seek(0)
    #-----------------------------------------------
    #return (x_list,y_list,z_list,roll_list,pitch_list,yaw_list);
    return (x_,y_,z_,roll_,pitch_,yaw_);

#function to get an array from a list of arrays
        
def flatten_list(list_of_arrays):
    flat_list=[]
    for aray in list_of_arrays:
        for element in aray:
            flat_list.append(element)
    
    return (numpy.asarray(flat_list))
    